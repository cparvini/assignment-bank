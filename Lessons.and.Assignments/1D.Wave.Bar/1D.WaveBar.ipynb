{
 "metadata": {
  "name": "",
  "signature": "sha256:20be003d6a962dab4e4013fd31c9809caff293074ee6020df0358bac08325235"
 },
 "nbformat": 3,
 "nbformat_minor": 0,
 "worksheets": [
  {
   "cells": [
    {
     "cell_type": "heading",
     "level": 6,
     "metadata": {},
     "source": [
      "Content under Creative Commons Attribution license CC-BY 4.0, code under MIT license (c) 2014 F.J.Gonzales. Portions of the code adopted from the #numericalmooc materials, also under CC-BY."
     ]
    },
    {
     "cell_type": "heading",
     "level": 1,
     "metadata": {},
     "source": [
      "The French Connec... eh solution"
     ]
    },
    {
     "cell_type": "heading",
     "level": 2,
     "metadata": {},
     "source": [
      "Solving the 1-D wave equation"
     ]
    },
    {
     "cell_type": "markdown",
     "metadata": {},
     "source": [
      "Welcome to this bonus notebook that ties into the second module of [\"Practical Numerical Methods with Python\"](http://openedx.seas.gwu.edu/courses/GW/MAE6286/2014_fall/about).\n",
      "\n",
      "In the first notebook of the second module, we were introduced to the numerical solutions of *partial differential equations (PDEs)*. The equation used in that notebook was the 1-D linear convection equation, AKA *the advection equation*.\n",
      "\n",
      "However, in this notebook we will explore the 1-D wave equation shown below:\n",
      "\n",
      "\\begin{equation}\\frac{\\partial^2 u}{\\partial t^2}= c^2 \\frac{\\partial^2 u}{\\partial x^2}.\n",
      "\\end{equation}\n",
      "\n",
      "The wave equation is second order in both spatial and temporal dimensions."
     ]
    },
    {
     "cell_type": "markdown",
     "metadata": {},
     "source": [
      "If the initial displacement $\\ f(x)$ and a velocity $\\ g(x)$ are specified for the wave equation, then the solution of the system is:\n",
      "\\begin{equation}\\ u(x,t) = \\frac{1}{2}[f(x-ct)+f(x+ct)]+\\frac{1}{2c}\\int{g(\\tau){\\partial \\tau}}\\end{equation}\n",
      "This solution is known as the d'Alembert solution for the 1-D wave equation."
     ]
    },
    {
     "cell_type": "markdown",
     "metadata": {},
     "source": [
      "For this notebook we will focus on the special case where the initial velocity is zero, $g(x)=0$\n",
      "and the solution is simplified to the equation below:\n",
      "\\begin{equation}\\ u(x,t)=\\frac{1}{2}[f(x-ct)+f(x+ct)]\\end{equation}\n"
     ]
    },
    {
     "cell_type": "heading",
     "level": 2,
     "metadata": {},
     "source": [
      "The Guitar pick example"
     ]
    },
    {
     "cell_type": "markdown",
     "metadata": {},
     "source": [
      "A classical example of the 1-D wave equation is when simulating the motion of a guitar string after it is plucked."
     ]
    },
    {
     "cell_type": "markdown",
     "metadata": {},
     "source": [
      "![Image](./figures/guitar_pick_wave.png)"
     ]
    },
    {
     "cell_type": "heading",
     "level": 6,
     "metadata": {},
     "source": [
      "Image credit: G. Everstine, 2012 (Fig. 14, page 23)."
     ]
    },
    {
     "cell_type": "markdown",
     "metadata": {},
     "source": [
      "As the figure above shows, the original triangular displacement splits into two waves traveling in opposite directions.  One can also see that each of the travelling waves is half the height of the original function, which corresponds to d'Alembert's solution shown previously."
     ]
    },
    {
     "cell_type": "heading",
     "level": 2,
     "metadata": {},
     "source": [
      "Wave motion for a bar"
     ]
    },
    {
     "cell_type": "markdown",
     "metadata": {},
     "source": [
      "Now that we have established the solution for the 1-D wave equation, we will use this to simulate the longitudinal wave motion on a finite length bar. "
     ]
    },
    {
     "cell_type": "heading",
     "level": 3,
     "metadata": {},
     "source": [
      "Problem Description"
     ]
    },
    {
     "cell_type": "markdown",
     "metadata": {},
     "source": [
      "Let's say we have a bar of finite length as shown below. The length is $10 \\rm{m}$ in the $x$ direction.  As can be seen, the system ends with a dashpot, also known as a damper; this dashpot is an important part of this problem because we will see how this will create a non-reflecting boundary condition. "
     ]
    },
    {
     "cell_type": "markdown",
     "metadata": {},
     "source": [
      "![Image](./figures/1dbar.png)"
     ]
    },
    {
     "cell_type": "heading",
     "level": 6,
     "metadata": {},
     "source": [
      "Image credit: G. Everstine, 2012 (Fig. 22 in page 30)."
     ]
    },
    {
     "cell_type": "markdown",
     "metadata": {},
     "source": [
      "In addition to the problem description, the initial displacement $f(x)$ is defined below:\n",
      "\\begin{equation}\n",
      "u(x,0)=\\begin{cases}2-2(x-5)^2 & \\text{where } 4\\leq x \\leq 6,\\\\\n",
      "0 & \\text{everywhere else in } (0, 10)\n",
      "\\end{cases}\n",
      "\\end{equation}"
     ]
    },
    {
     "cell_type": "heading",
     "level": 3,
     "metadata": {},
     "source": [
      "Discretizing the equation"
     ]
    },
    {
     "cell_type": "markdown",
     "metadata": {},
     "source": [
      "Since the 1-D wave equation is second order in time and space, we will discretize the equation using central difference for both dimensions.  Below is the discretized equation:"
     ]
    },
    {
     "cell_type": "markdown",
     "metadata": {},
     "source": [
      "\\begin{equation}\\frac{u_i^{n+1}-2u_i^n+u_i^{n-1}}{c^2\\Delta t^2} =  \\frac{u_{i+1}^n - 2u_i^n+u_{i-1}^n}{\\Delta x^2} \\end{equation}"
     ]
    },
    {
     "cell_type": "markdown",
     "metadata": {},
     "source": [
      "Solving for the unknown in the discretized equation we get the following:"
     ]
    },
    {
     "cell_type": "markdown",
     "metadata": {},
     "source": [
      "\\begin{equation}\\ u_i^{n+1}=-u_i^{n-1}+2u_i^n+C^2(u_{i+1}^n-2u_i^{n}+u_{i-1}^n) \\end{equation}"
     ]
    },
    {
     "cell_type": "markdown",
     "metadata": {},
     "source": [
      "In this equation $C= c\\frac{\\Delta t}{\\Delta x}$, which equates to the CFL number."
     ]
    },
    {
     "cell_type": "markdown",
     "metadata": {},
     "source": [
      "In addition to discretizing the wave equation, we also want to take a look at our boundary conditions.  On the left-hand-side boundary, the bar is fixed, which would correlate with a Dirichlet boundary where the displacement is $u=0$."
     ]
    },
    {
     "cell_type": "markdown",
     "metadata": {},
     "source": [
      "The right-hand-side boundary is more tricky and that is where the idea of the nonreflecting boundary condition comes into play."
     ]
    },
    {
     "cell_type": "markdown",
     "metadata": {},
     "source": [
      "If we look at a simplified version of d'Alembert's solution, $f(x-ct)+f(x+ct),$ we can see that the first term represents the wave that is moving towards the right boundary while the latter term represents the wave that bounces away from the right boundary.  In the bar we are analyzing, the dashpot at the right-hand-side means that the second return wave term would go to zero."
     ]
    },
    {
     "cell_type": "markdown",
     "metadata": {},
     "source": [
      "Differentiating the first term of D'Alembert's solution in terms of space and time would result in the following PDEs:\n",
      "\\begin{equation}\\frac{\\partial u}{\\partial x}= f^\\prime,\\frac{\\partial u}{\\partial t}= -cf^\\prime\\end{equation}"
     ]
    },
    {
     "cell_type": "markdown",
     "metadata": {},
     "source": [
      "Rearranging the above equations gives the boundary condition we have to enforce on the right-hand side:\n",
      "\n",
      "\\begin{equation}\\frac{\\partial u}{\\partial x}=-\\frac{1}{c}\\frac{\\partial u}{\\partial t}\\end{equation}"
     ]
    },
    {
     "cell_type": "markdown",
     "metadata": {},
     "source": [
      "Discretizing our non-reflecting boundary:"
     ]
    },
    {
     "cell_type": "markdown",
     "metadata": {},
     "source": [
      "\\begin{equation}\\frac{u_i^n-u_{i-1}^n}{\\Delta x} = \\frac{-1}{c}\\frac{u_i^{n+1}-u_i^n}{\\Delta t}\\end{equation}"
     ]
    },
    {
     "cell_type": "markdown",
     "metadata": {},
     "source": [
      "and isolating for the end boundary:"
     ]
    },
    {
     "cell_type": "markdown",
     "metadata": {},
     "source": [
      "\\begin{equation}u_i^n= -\\frac{\\Delta x}{c\\Delta t}(u_i^{n+1}-u_i^n)+u_{i-1}^n\\end{equation}"
     ]
    },
    {
     "cell_type": "heading",
     "level": 3,
     "metadata": {},
     "source": [
      "Lets rev up some code!"
     ]
    },
    {
     "cell_type": "markdown",
     "metadata": {},
     "source": [
      "The first thing we always do is to import the necessary libraries for this problem.  In this case we will use bothy Numpy and Sympy. We will also use Matplotlib for plotting our displacement."
     ]
    },
    {
     "cell_type": "code",
     "collapsed": false,
     "input": [
      "import numpy as np\n",
      "import sympy as sp\n",
      "from sympy.utilities.lambdify import lambdify\n",
      "import matplotlib.pyplot as plt\n",
      "%matplotlib inline\n",
      "from matplotlib import rcParams\n",
      "rcParams['font.family'] = 'serif'\n",
      "rcParams['font.size'] = 16"
     ],
     "language": "python",
     "metadata": {},
     "outputs": [],
     "prompt_number": 1
    },
    {
     "cell_type": "markdown",
     "metadata": {},
     "source": [
      "We then create the initial condition for the bar."
     ]
    },
    {
     "cell_type": "code",
     "collapsed": false,
     "input": [
      "# initial conditions and parameters\n",
      "nx= 50\n",
      "x= sp.symbols('x')\n",
      "func= 2-2*(x-5)**2\n",
      "init_func= lambdify((x), func)\n",
      "x_array= np.linspace(0,10,nx+1)\n",
      "u_initial= np.asarray([init_func(x0) for x0 in x_array])"
     ],
     "language": "python",
     "metadata": {},
     "outputs": [],
     "prompt_number": 2
    },
    {
     "cell_type": "markdown",
     "metadata": {},
     "source": [
      "Lets plot the initial function so we can start off on the right foot."
     ]
    },
    {
     "cell_type": "code",
     "collapsed": false,
     "input": [
      "plt.plot(x_array, u_initial, color='#003366', ls='--', lw=3)\n",
      "plt.xlim(0,10)\n",
      "plt.ylim(0,3)\n",
      "plt.xlabel('x')\n",
      "plt.ylabel('Displacement')"
     ],
     "language": "python",
     "metadata": {},
     "outputs": [
      {
       "metadata": {},
       "output_type": "pyout",
       "prompt_number": 3,
       "text": [
        "<matplotlib.text.Text at 0x109111d10>"
       ]
      },
      {
       "metadata": {},
       "output_type": "display_data",
       "png": "[encoded data removed]",
       "text": [
        "<matplotlib.figure.Figure at 0x109040690>"
       ]
      }
     ],
     "prompt_number": 3
    },
    {
     "cell_type": "markdown",
     "metadata": {},
     "source": [
      "Now we can define a function to solve for the displacement."
     ]
    },
    {
     "cell_type": "code",
     "collapsed": false,
     "input": [
      "def barsolver(u_init, T, C, nx):\n",
      "    ''' Returns the displacement of the wave equation for a bar.\n",
      "    \n",
      "    Parameters\n",
      "    ----------\n",
      "    u_init: array of float\n",
      "        initial displacement of bar\n",
      "    T: integer\n",
      "        final time for calculation\n",
      "    C: integer\n",
      "        CFL number for stability\n",
      "    nx: integer\n",
      "        number of gridsteps\n",
      "        \n",
      "    Returns\n",
      "    -------\n",
      "    u: array of float\n",
      "        final displacement of bar wave motion\n",
      "    '''    \n",
      "    #initial parameters\n",
      "    c= 2\n",
      "    C2= C**2\n",
      "    dx= 10./nx\n",
      "    dt = C*dx/c\n",
      "    nt= int(round(T/dt))\n",
      "    \n",
      "\n",
      "    #create arrays\n",
      "    u= np.zeros(nx+1)    #array holding u for u[n+1]\n",
      "    u_1= np.zeros(nx+1)  #array holding u for u[n]\n",
      "    u_2= np.zeros(nx+1)  #array holding u for u[n-1]\n",
      "    \n",
      "    u_1[4/dx:6/dx+1]= u_init[4/dx:6/dx+1]\n",
      "    \n",
      "    # Loop for first time step\n",
      "    n = 0\n",
      "    for i in range(1, nx):\n",
      "        u[i] = u_1[i] + 0.5*C2*(u_1[i-1] - 2*u_1[i] + u_1[i+1])\n",
      "    # Enforce boundary conditions    \n",
      "    u[0] = 0;  u[-1] = -dx/(c*dt)*(u[i]-u_1[i])+u[-2]\n",
      "\n",
      "    # Switch variables before next step\n",
      "    u_2[:], u_1[:] = u_1, u\n",
      "    \n",
      "    # Loops for subsequent time steps\n",
      "    for n in range(1, nt):\n",
      "        for i in range(1, nx):\n",
      "            u[i] = - u_2[i] + 2*u_1[i] + C2*(u_1[i-1] - 2*u_1[i] + u_1[i+1])             \n",
      "\n",
      "        # Enforce boundary conditions\n",
      "        u[0] = 0;  u[-1] = -dx/(c*dt)*(u[i]-u_1[i])+u[-2]\n",
      "    \n",
      "        # Switch variables before next step\n",
      "        u_2[:], u_1[:] = u_1, u\n",
      "        \n",
      "    return u"
     ],
     "language": "python",
     "metadata": {},
     "outputs": [],
     "prompt_number": 4
    },
    {
     "cell_type": "markdown",
     "metadata": {},
     "source": [
      "Lets run the solver for $t=0$ and plot the displacement."
     ]
    },
    {
     "cell_type": "code",
     "collapsed": false,
     "input": [
      "u_ans= barsolver(u_initial,0,1,50)"
     ],
     "language": "python",
     "metadata": {},
     "outputs": [],
     "prompt_number": 5
    },
    {
     "cell_type": "code",
     "collapsed": false,
     "input": [
      "plt.plot(x_array,u_ans)\n",
      "plt.xlim(0,10)\n",
      "plt.ylim(-3,3)"
     ],
     "language": "python",
     "metadata": {},
     "outputs": [
      {
       "metadata": {},
       "output_type": "pyout",
       "prompt_number": 6,
       "text": [
        "(-3, 3)"
       ]
      },
      {
       "metadata": {},
       "output_type": "display_data",
       "png": "[encoded data removed]",
       "text": [
        "<matplotlib.figure.Figure at 0x109138c50>"
       ]
      }
     ],
     "prompt_number": 6
    },
    {
     "cell_type": "markdown",
     "metadata": {},
     "source": [
      "As we expected, the displacement is equal to the initial parabola."
     ]
    },
    {
     "cell_type": "code",
     "collapsed": false,
     "input": [
      "u_ans= barsolver(u_initial,2,1,50)  #solving at t= 2"
     ],
     "language": "python",
     "metadata": {},
     "outputs": [],
     "prompt_number": 7
    },
    {
     "cell_type": "code",
     "collapsed": false,
     "input": [
      "plt.plot(x_array,u_ans)\n",
      "plt.xlim(0,10)\n",
      "plt.ylim(-2,2)"
     ],
     "language": "python",
     "metadata": {},
     "outputs": [
      {
       "metadata": {},
       "output_type": "pyout",
       "prompt_number": 8,
       "text": [
        "(-2, 2)"
       ]
      },
      {
       "metadata": {},
       "output_type": "display_data",
       "png": "[encoded data removed]",
       "text": [
        "<matplotlib.figure.Figure at 0x1092a5350>"
       ]
      }
     ],
     "prompt_number": 8
    },
    {
     "cell_type": "code",
     "collapsed": false,
     "input": [
      "u_ans= barsolver(u_initial,4,1,50)  #solving at t= 4 "
     ],
     "language": "python",
     "metadata": {},
     "outputs": [],
     "prompt_number": 9
    },
    {
     "cell_type": "code",
     "collapsed": false,
     "input": [
      "plt.plot(x_array,u_ans)\n",
      "plt.xlim(0,10)\n",
      "plt.ylim(-2,2)"
     ],
     "language": "python",
     "metadata": {},
     "outputs": [
      {
       "metadata": {},
       "output_type": "pyout",
       "prompt_number": 10,
       "text": [
        "(-2, 2)"
       ]
      },
      {
       "metadata": {},
       "output_type": "display_data",
       "png": "[encoded data removed]",
       "text": [
        "<matplotlib.figure.Figure at 0x10911dad0>"
       ]
      }
     ],
     "prompt_number": 10
    },
    {
     "cell_type": "markdown",
     "metadata": {},
     "source": [
      "As we can see from the plots, the wave moving in the right direction has been absorbed while the left moving wave has flipped over and is now moving in the right direction."
     ]
    },
    {
     "cell_type": "markdown",
     "metadata": {},
     "source": [
      "Our code has expressed correctly the non-reflecting boundary!"
     ]
    },
    {
     "cell_type": "heading",
     "level": 5,
     "metadata": {},
     "source": [
      "Now your turn"
     ]
    },
    {
     "cell_type": "markdown",
     "metadata": {},
     "source": [
      "What do you think will happen as more time passes?\n",
      "\n",
      "You will need to plot the displacement for t= 6, 8, 10 and check if what you expected was correct."
     ]
    },
    {
     "cell_type": "heading",
     "level": 2,
     "metadata": {},
     "source": [
      "Reference"
     ]
    },
    {
     "cell_type": "markdown",
     "metadata": {},
     "source": [
      "* Barba, Lorena A., et al. \"MAE 6286 Practical Numerical Methods with Python,\" GW Open edX, The George Washingtion University, 2014. http://openedx.seas.gwu.edu/courses/GW/MAE6286/2014_fall/about .\n",
      "\n",
      "* Chapra, Steven C and Canale, Raymond P., \"Numerical Methods for Engineers,\" McGraw-Hill Education, Inc., New York, 2010.\n",
      "\n",
      "* Everstine, Gordon C. \"Analytical Solution of Partial Differential Equations,\" George Washington University, 2012. [PDF](http://gwu.geverstine.com/pdenum.pdf) \n",
      "\n",
      "* Fitzpatrick, Richard. \"Introduction: Wave Equation,\" University of Texas, 2006. [Wave Equation](http://farside.ph.utexas.edu/teaching/329/lectures/node89.html).\n",
      "\n",
      "* Strauss, Walter A., \"Partial Differential Equations: An Introduction,\" Wiley, Inc., New York, 2008.  "
     ]
    },
    {
     "cell_type": "markdown",
     "metadata": {},
     "source": [
      "---\n",
      "\n",
      "###### The cell bellow loads the style of the notebook"
     ]
    },
    {
     "cell_type": "code",
     "collapsed": false,
     "input": [
      "from IPython.core.display import HTML\n",
      "css_file = '../../styles/numericalmoocstyle.css'\n",
      "HTML(open(css_file, \"r\").read())"
     ],
     "language": "python",
     "metadata": {},
     "outputs": [
      {
       "html": [
        "<link href='http://fonts.googleapis.com/css?family=Alegreya+Sans:100,300,400,500,700,800,900,100italic,300italic,400italic,500italic,700italic,800italic,900italic' rel='stylesheet' type='text/css'>\n",
        "<link href='http://fonts.googleapis.com/css?family=Arvo:400,700,400italic' rel='stylesheet' type='text/css'>\n",
        "<link href='http://fonts.googleapis.com/css?family=PT+Mono' rel='stylesheet' type='text/css'>\n",
        "<link href='http://fonts.googleapis.com/css?family=Shadows+Into+Light' rel='stylesheet' type='text/css'>\n",
        "<link href='http://fonts.googleapis.com/css?family=Nixie+One' rel='stylesheet' type='text/css'>\n",
        "<style>\n",
        "\n",
        "@font-face {\n",
        "    font-family: \"Computer Modern\";\n",
        "    src: url('http://mirrors.ctan.org/fonts/cm-unicode/fonts/otf/cmunss.otf');\n",
        "}\n",
        "\n",
        "#notebook_panel { /* main background */\n",
        "    background: rgb(245,245,245);\n",
        "}\n",
        "\n",
        "div.cell { /* set cell width */\n",
        "    width: 750px;\n",
        "}\n",
        "\n",
        "div #notebook { /* centre the content */\n",
        "    background: #fff; /* white background for content */\n",
        "    width: 1000px;\n",
        "    margin: auto;\n",
        "    padding-left: 0em;\n",
        "}\n",
        "\n",
        "#notebook li { /* More space between bullet points */\n",
        "margin-top:0.8em;\n",
        "}\n",
        "\n",
        "/* draw border around running cells */\n",
        "div.cell.border-box-sizing.code_cell.running { \n",
        "    border: 1px solid #111;\n",
        "}\n",
        "\n",
        "/* Put a solid color box around each cell and its output, visually linking them*/\n",
        "div.cell.code_cell {\n",
        "    background-color: rgb(256,256,256); \n",
        "    border-radius: 0px; \n",
        "    padding: 0.5em;\n",
        "    margin-left:1em;\n",
        "    margin-top: 1em;\n",
        "}\n",
        "\n",
        "div.text_cell_render{\n",
        "    font-family: 'Alegreya Sans' sans-serif;\n",
        "    line-height: 140%;\n",
        "    font-size: 125%;\n",
        "    font-weight: 400;\n",
        "    width:600px;\n",
        "    margin-left:auto;\n",
        "    margin-right:auto;\n",
        "}\n",
        "\n",
        "\n",
        "/* Formatting for header cells */\n",
        ".text_cell_render h1 {\n",
        "    font-family: 'Nixie One', serif;\n",
        "    font-style:regular;\n",
        "    font-weight: 400;    \n",
        "    font-size: 45pt;\n",
        "    line-height: 100%;\n",
        "    color: rgb(0,51,102);\n",
        "    margin-bottom: 0.5em;\n",
        "    margin-top: 0.5em;\n",
        "    display: block;\n",
        "}\t\n",
        ".text_cell_render h2 {\n",
        "    font-family: 'Nixie One', serif;\n",
        "    font-weight: 400;\n",
        "    font-size: 30pt;\n",
        "    line-height: 100%;\n",
        "    color: rgb(0,51,102);\n",
        "    margin-bottom: 0.1em;\n",
        "    margin-top: 0.3em;\n",
        "    display: block;\n",
        "}\t\n",
        "\n",
        ".text_cell_render h3 {\n",
        "    font-family: 'Nixie One', serif;\n",
        "    margin-top:16px;\n",
        "\tfont-size: 22pt;\n",
        "    font-weight: 600;\n",
        "    margin-bottom: 3px;\n",
        "    font-style: regular;\n",
        "    color: rgb(102,102,0);\n",
        "}\n",
        "\n",
        ".text_cell_render h4 {    /*Use this for captions*/\n",
        "    font-family: 'Nixie One', serif;\n",
        "    font-size: 14pt;\n",
        "    text-align: center;\n",
        "    margin-top: 0em;\n",
        "    margin-bottom: 2em;\n",
        "    font-style: regular;\n",
        "}\n",
        "\n",
        ".text_cell_render h5 {  /*Use this for small titles*/\n",
        "    font-family: 'Nixie One', sans-serif;\n",
        "    font-weight: 400;\n",
        "    font-size: 16pt;\n",
        "    color: rgb(163,0,0);\n",
        "    font-style: italic;\n",
        "    margin-bottom: .1em;\n",
        "    margin-top: 0.8em;\n",
        "    display: block;\n",
        "}\n",
        "\n",
        ".text_cell_render h6 { /*use this for copyright note*/\n",
        "    font-family: 'PT Mono', sans-serif;\n",
        "    font-weight: 300;\n",
        "    font-size: 9pt;\n",
        "    line-height: 100%;\n",
        "    color: grey;\n",
        "    margin-bottom: 1px;\n",
        "    margin-top: 1px;\n",
        "}\n",
        "\n",
        ".CodeMirror{\n",
        "        font-family: \"PT Mono\";\n",
        "        font-size: 90%;\n",
        "}\n",
        "\n",
        "</style>\n",
        "<script>\n",
        "    MathJax.Hub.Config({\n",
        "                        TeX: {\n",
        "                           extensions: [\"AMSmath.js\"],\n",
        "                           equationNumbers: { autoNumber: \"AMS\", useLabelIds: true}\n",
        "                           },\n",
        "                tex2jax: {\n",
        "                    inlineMath: [ ['$','$'], [\"\\\\(\",\"\\\\)\"] ],\n",
        "                    displayMath: [ ['$$','$$'], [\"\\\\[\",\"\\\\]\"] ]\n",
        "                },\n",
        "                displayAlign: 'center', // Change this to 'center' to center equations.\n",
        "                \"HTML-CSS\": {\n",
        "                    styles: {'.MathJax_Display': {\"margin\": 4}}\n",
        "                }\n",
        "        });\n",
        "</script>\n"
       ],
       "metadata": {},
       "output_type": "pyout",
       "prompt_number": 1,
       "text": [
        "<IPython.core.display.HTML at 0x1038969d0>"
       ]
      }
     ],
     "prompt_number": 1
    }
   ],
   "metadata": {}
  }
 ]
}