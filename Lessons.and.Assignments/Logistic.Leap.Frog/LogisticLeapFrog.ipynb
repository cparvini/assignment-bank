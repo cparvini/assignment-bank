{
 "metadata": {
  "name": "",
  "signature": "sha256:83f20fbb59bf5b0b74b3701e7f804426b8a0acdb9727ab14c102a5229ed8d1b2"
 },
 "nbformat": 3,
 "nbformat_minor": 0,
 "worksheets": [
  {
   "cells": [
    {
     "cell_type": "heading",
     "level": 6,
     "metadata": {},
     "source": [
      "Content under Creative Commons Attribution license CC-BY 4.0, code under MIT license (c)2014 Sigurd Angenent."
     ]
    },
    {
     "cell_type": "heading",
     "level": 1,
     "metadata": {},
     "source": [
      "The logistic equation\n",
      "and\n",
      "the leap frog method"
     ]
    },
    {
     "cell_type": "markdown",
     "metadata": {},
     "source": [
      "The logistic differential equation is a diffeq of the form\n",
      "$$\n",
      "\\frac{dx}{dt} = f(x)\n",
      "$$\n",
      "where\n",
      "$$\n",
      "f(x) = x(1-x).\n",
      "$$\n",
      "The <b>leap frog method</b> for approximating solutions to this diffeq begins by replacing the derivative $dx/dt$ by a centered difference:\n",
      "$$\n",
      "\\frac{dx}{dt} \\approx \\frac{x(t+\\Delta t) - x(t-\\Delta t)}{2\\Delta t}.\n",
      "\\tag{1}\n",
      "$$\n",
      "If we write $x_n = x(n\\Delta t)$ for the successive approximations, then the $x_n$ satisfy\n",
      "\n",
      "\\begin{equation}\n",
      "\\frac{x_{n+1} - x _ {n-1}}{2\\Delta t} = f(x_n)\n",
      "\\implies\n",
      "x _ {n+1} = x _ {n-1} + 2f(x_n).\n",
      "\\tag{2}\n",
      "\\label{eq:leapfrog}\n",
      "\\end{equation}\n",
      "If we know $x_0$ and $x_1$ then this method tells us how to find $ x_2, x_3, \\dots$.  Here $x_0$ should be a given as initial data.  We have to somehow come up with $x_1$.  Below we will use the midpoint rule to approximate $x_1$.\n",
      "\n",
      "The symmetric difference in (1) is a better approximation of the derivative than the forward difference\n",
      "$$\n",
      "\\frac{dx}{dt} \\approx \\frac{ x(t+\\Delta t) - x(t)}{\\Delta t}\n",
      "$$\n",
      "which is used in the derivation of Euler's method.  So you would think that the leap frog method is more accurate than the Euler method.  But the leap frog method turns out to be problematic.  In this notebook we compare the solutions of the leap frog method with those provided by the mid point rule.\n"
     ]
    },
    {
     "cell_type": "heading",
     "level": 3,
     "metadata": {},
     "source": [
      "The simulation"
     ]
    },
    {
     "cell_type": "code",
     "collapsed": false,
     "input": [
      "#  To begin the simulation we import the necessary pyplot stuff\n",
      "import numpy\n",
      "import matplotlib.pyplot as plt\n",
      "%matplotlib inline\n",
      "from matplotlib import rcParams\n",
      "rcParams['font.family'] = 'serif'\n",
      "rcParams['font.size'] = 16"
     ],
     "language": "python",
     "metadata": {},
     "outputs": [],
     "prompt_number": 2
    },
    {
     "cell_type": "markdown",
     "metadata": {},
     "source": [
      "Next, we define a function that returns the right hand side of the logistic ODE, and also a function that performs one step of the leapfrog method."
     ]
    },
    {
     "cell_type": "code",
     "collapsed": false,
     "input": [
      "def f(x):\n",
      "    \"\"\"the right hand side in the logistic differential equation\"\"\"\n",
      "    return 3*x*(1.0-x)\n",
      "function_formula=\"$3x-x^2$\"  #  this string goes in the title of our figure\n",
      "\n",
      "def leapfrog(u0,u1,f,dt):\n",
      "    \"\"\" Compute the solution at the next time step\n",
      "    by applying the leap frog method to the previous two known solution points. \"\"\"\n",
      "    return u0 + 2*dt*f(u1)"
     ],
     "language": "python",
     "metadata": {},
     "outputs": [],
     "prompt_number": 3
    },
    {
     "cell_type": "markdown",
     "metadata": {},
     "source": [
      "We need the midpoint method to estimate $x_1$, and we will also use it to compare the leapfrog solution with a solution we trust."
     ]
    },
    {
     "cell_type": "code",
     "collapsed": false,
     "input": [
      "def midpoint_step(u, f, dt):\n",
      "    \"\"\"Returns the solution at the next time-step using the midpoint method.\n",
      "    \n",
      "    Parameters\n",
      "    ----------\n",
      "    u : array of float\n",
      "        solution at the previous time-step.\n",
      "    f : function\n",
      "        function to compute the right hand-side of the system of equation.\n",
      "    dt : float\n",
      "        time-increment.\n",
      "    \n",
      "    Returns\n",
      "    -------\n",
      "    u_n_plus_1 : array of float\n",
      "        approximate solution at the next time step.\n",
      "    \"\"\"\n",
      "    umid = u+dt*f(u)/2\n",
      "    return u + dt * f(umid)"
     ],
     "language": "python",
     "metadata": {},
     "outputs": [],
     "prompt_number": 4
    },
    {
     "cell_type": "markdown",
     "metadata": {},
     "source": [
      "At this point we begin the computation.  We will compute the solution over a time interval $0\\lt t\\lt T$, taking $N$ steps.\n",
      "\n",
      "We store the results of the leap frog and midpoint methods in two arrays ```ulp``` and ```umdp```"
     ]
    },
    {
     "cell_type": "code",
     "collapsed": false,
     "input": [
      "# the parameters\n",
      "N=200\n",
      "T=20.0\n",
      "dt = T/N\n",
      "u0 = 0.02  # initial value of the solution\n",
      "\n",
      "# create arrays with indices 0, 1, 2, ..., N: \n",
      "# they must have N+1 entries since we include 0.\n",
      "times = numpy.linspace(0.0, T, N+1)\n",
      "ulp = numpy.zeros(N+1)\n",
      "umdp = numpy.zeros(N+1)\n",
      "\n",
      "# assign initial data\n",
      "ulp[0] = u0\n",
      "umdp[0] = u0\n"
     ],
     "language": "python",
     "metadata": {},
     "outputs": [],
     "prompt_number": 5
    },
    {
     "cell_type": "code",
     "collapsed": false,
     "input": [
      "# Compute umdp[1] and use it as u1 for the leap frog method\n",
      "\n",
      "umdp[1] = midpoint_step(u0, f, dt)\n",
      "ulp[1] = umdp[1]\n",
      "\n",
      "# Compute the remaining solution points\n",
      "for i in range(2,N+1):\n",
      "    umdp[i] = midpoint_step(umdp[i-1], f, dt)\n",
      "    ulp[i] = leapfrog(ulp[i-2], ulp[i-1], f, dt)"
     ],
     "language": "python",
     "metadata": {},
     "outputs": [],
     "prompt_number": 6
    },
    {
     "cell_type": "code",
     "collapsed": false,
     "input": [
      "# now we plot\n",
      "# visualization of the path\n",
      "plt.figure(figsize=(12,6))\n",
      "plt.grid(True)\n",
      "plt.xlabel(r't', fontsize=18)\n",
      "plt.ylabel(r'u', fontsize=18)\n",
      "plt.title(\"Approximate solutions of $3x-x^2$.     Time step: $\\Delta t=$%.3f \"%(dt))\n",
      "plt.plot(times, ulp, 'r-', lw=1, label='Leap frog')\n",
      "plt.plot(times, umdp, 'g-', lw=2, label='Mid point rule')\n",
      "# uncomment the following two lines to plot the\n",
      "# even entries and the odd entries in the leapfrog approximation\n",
      "#plt.plot(times[0::2], ulp[0::2], 'y-', lw=3)\n",
      "#plt.plot(times[1::2], ulp[1::2], 'm-', lw=3)\n",
      "plt.legend(loc='upper left');"
     ],
     "language": "python",
     "metadata": {},
     "outputs": [
      {
       "metadata": {},
       "output_type": "display_data",
       "png": "[encoded data removed]",
       "text": [
        "<matplotlib.figure.Figure at 0x1063ac650>"
       ]
      }
     ],
     "prompt_number": 7
    },
    {
     "cell_type": "heading",
     "level": 3,
     "metadata": {},
     "source": [
      "What is going on?"
     ]
    },
    {
     "cell_type": "markdown",
     "metadata": {},
     "source": [
      "While the solution of the leapfrog method oscillates a lot, it looks like it oscillates between two nice graphs (you can see them by uncommenting two lines in the code above.)\n",
      "\n",
      "To see what is happening, take the sequence of leap-frog values\n",
      "$$\n",
      "\\dots, x _ {n-2}, x _ {n-1}, x _ {n}, x _ {n+1}, x _ {n+2}, \\dots\n",
      "$$\n",
      "and separate the even from the odd numbered entries:  let \n",
      "$$\n",
      "p _ k = x _ {2k}, \\qquad q _ k = x _ {2k+1}.\n",
      "$$\n",
      "So, \n",
      "$$\n",
      "x_0, x_1, x_2, x_3, x_4, \\dots = \n",
      "p_0, q_0, p_1, q_2, p_3, \\dots\n",
      "$$\n",
      "Write the leap frog equation \\eqref{eq:leapfrog} twice: once for $n$ even, and once for $n$ odd.  You get\n",
      "\\begin{align*}\n",
      "x _ {2k} &= x _ {2k-2} + 2\\Delta t f(x _ {2k-1}) &\n",
      "\\implies p _ k &= p _ {k-1} + 2\\Delta t f(q _ {k-1})\\\\\n",
      "x _ {2k+1} &= x _ {2k-1} + 2\\Delta t f(x _ {2k}) &\n",
      "\\implies q _ k &= q _ {k-1} + 2\\Delta t f(p _ k)\n",
      "\\end{align*}\n",
      "The equations for $p _ k$  and $q_k$ are <i>almost</i> the Euler method for the system of differential equations\n",
      "\\begin{align*}\n",
      "p' &= f(q)\\\\\n",
      "q' &= f(p)\n",
      "\\end{align*}\n",
      "where $p_k\\approx p(2k\\Delta t)$ and $q_k\\approx q(2k\\Delta t)$.  The leap frog method isn't solving one differential equation $x'=f(x)$, but a system of two diffeqs $p'=f(q)$, $q'=f(p)$!  As long as $p=q$ the system of diffeqs reduces to the original single equation, but apparently there are points where a small difference between $p$ and $q$ gets amplified, and the leap frog method shows us a solution of $p'=f(q), q'=f(p)$ with $p\\neq q$.\n"
     ]
    },
    {
     "cell_type": "heading",
     "level": 3,
     "metadata": {},
     "source": [
      "Suggestions"
     ]
    },
    {
     "cell_type": "markdown",
     "metadata": {},
     "source": [
      "Play with the parameters: what happens when you double $N$?  If you change the initial value? \n",
      "\n",
      "Try different functions $f$."
     ]
    },
    {
     "cell_type": "markdown",
     "metadata": {},
     "source": [
      "---\n",
      "\n",
      "######The cell below loads the style of the notebook."
     ]
    },
    {
     "cell_type": "code",
     "collapsed": false,
     "input": [
      "from IPython.core.display import HTML\n",
      "css_file = '../../styles/numericalmoocstyle.css'\n",
      "HTML(open(css_file, \"r\").read())"
     ],
     "language": "python",
     "metadata": {},
     "outputs": [
      {
       "html": [
        "<link href='http://fonts.googleapis.com/css?family=Alegreya+Sans:100,300,400,500,700,800,900,100italic,300italic,400italic,500italic,700italic,800italic,900italic' rel='stylesheet' type='text/css'>\n",
        "<link href='http://fonts.googleapis.com/css?family=Arvo:400,700,400italic' rel='stylesheet' type='text/css'>\n",
        "<link href='http://fonts.googleapis.com/css?family=PT+Mono' rel='stylesheet' type='text/css'>\n",
        "<link href='http://fonts.googleapis.com/css?family=Shadows+Into+Light' rel='stylesheet' type='text/css'>\n",
        "<link href='http://fonts.googleapis.com/css?family=Nixie+One' rel='stylesheet' type='text/css'>\n",
        "<style>\n",
        "\n",
        "@font-face {\n",
        "    font-family: \"Computer Modern\";\n",
        "    src: url('http://mirrors.ctan.org/fonts/cm-unicode/fonts/otf/cmunss.otf');\n",
        "}\n",
        "\n",
        "#notebook_panel { /* main background */\n",
        "    background: rgb(245,245,245);\n",
        "}\n",
        "\n",
        "div.cell { /* set cell width */\n",
        "    width: 750px;\n",
        "}\n",
        "\n",
        "div #notebook { /* centre the content */\n",
        "    background: #fff; /* white background for content */\n",
        "    width: 1000px;\n",
        "    margin: auto;\n",
        "    padding-left: 0em;\n",
        "}\n",
        "\n",
        "#notebook li { /* More space between bullet points */\n",
        "margin-top:0.8em;\n",
        "}\n",
        "\n",
        "/* draw border around running cells */\n",
        "div.cell.border-box-sizing.code_cell.running { \n",
        "    border: 1px solid #111;\n",
        "}\n",
        "\n",
        "/* Put a solid color box around each cell and its output, visually linking them*/\n",
        "div.cell.code_cell {\n",
        "    background-color: rgb(256,256,256); \n",
        "    border-radius: 0px; \n",
        "    padding: 0.5em;\n",
        "    margin-left:1em;\n",
        "    margin-top: 1em;\n",
        "}\n",
        "\n",
        "div.text_cell_render{\n",
        "    font-family: 'Alegreya Sans' sans-serif;\n",
        "    line-height: 140%;\n",
        "    font-size: 125%;\n",
        "    font-weight: 400;\n",
        "    width:600px;\n",
        "    margin-left:auto;\n",
        "    margin-right:auto;\n",
        "}\n",
        "\n",
        "\n",
        "/* Formatting for header cells */\n",
        ".text_cell_render h1 {\n",
        "    font-family: 'Nixie One', serif;\n",
        "    font-style:regular;\n",
        "    font-weight: 400;    \n",
        "    font-size: 45pt;\n",
        "    line-height: 100%;\n",
        "    color: rgb(0,51,102);\n",
        "    margin-bottom: 0.5em;\n",
        "    margin-top: 0.5em;\n",
        "    display: block;\n",
        "}\t\n",
        ".text_cell_render h2 {\n",
        "    font-family: 'Nixie One', serif;\n",
        "    font-weight: 400;\n",
        "    font-size: 30pt;\n",
        "    line-height: 100%;\n",
        "    color: rgb(0,51,102);\n",
        "    margin-bottom: 0.1em;\n",
        "    margin-top: 0.3em;\n",
        "    display: block;\n",
        "}\t\n",
        "\n",
        ".text_cell_render h3 {\n",
        "    font-family: 'Nixie One', serif;\n",
        "    margin-top:16px;\n",
        "\tfont-size: 22pt;\n",
        "    font-weight: 600;\n",
        "    margin-bottom: 3px;\n",
        "    font-style: regular;\n",
        "    color: rgb(102,102,0);\n",
        "}\n",
        "\n",
        ".text_cell_render h4 {    /*Use this for captions*/\n",
        "    font-family: 'Nixie One', serif;\n",
        "    font-size: 14pt;\n",
        "    text-align: center;\n",
        "    margin-top: 0em;\n",
        "    margin-bottom: 2em;\n",
        "    font-style: regular;\n",
        "}\n",
        "\n",
        ".text_cell_render h5 {  /*Use this for small titles*/\n",
        "    font-family: 'Nixie One', sans-serif;\n",
        "    font-weight: 400;\n",
        "    font-size: 16pt;\n",
        "    color: rgb(163,0,0);\n",
        "    font-style: italic;\n",
        "    margin-bottom: .1em;\n",
        "    margin-top: 0.8em;\n",
        "    display: block;\n",
        "}\n",
        "\n",
        ".text_cell_render h6 { /*use this for copyright note*/\n",
        "    font-family: 'PT Mono', sans-serif;\n",
        "    font-weight: 300;\n",
        "    font-size: 9pt;\n",
        "    line-height: 100%;\n",
        "    color: grey;\n",
        "    margin-bottom: 1px;\n",
        "    margin-top: 1px;\n",
        "}\n",
        "\n",
        ".CodeMirror{\n",
        "        font-family: \"PT Mono\";\n",
        "        font-size: 90%;\n",
        "}\n",
        "\n",
        "</style>\n",
        "<script>\n",
        "    MathJax.Hub.Config({\n",
        "                        TeX: {\n",
        "                           extensions: [\"AMSmath.js\"],\n",
        "                           equationNumbers: { autoNumber: \"AMS\", useLabelIds: true}\n",
        "                           },\n",
        "                tex2jax: {\n",
        "                    inlineMath: [ ['$','$'], [\"\\\\(\",\"\\\\)\"] ],\n",
        "                    displayMath: [ ['$$','$$'], [\"\\\\[\",\"\\\\]\"] ]\n",
        "                },\n",
        "                displayAlign: 'center', // Change this to 'center' to center equations.\n",
        "                \"HTML-CSS\": {\n",
        "                    styles: {'.MathJax_Display': {\"margin\": 4}}\n",
        "                }\n",
        "        });\n",
        "</script>\n"
       ],
       "metadata": {},
       "output_type": "pyout",
       "prompt_number": 1,
       "text": [
        "<IPython.core.display.HTML at 0x1038959d0>"
       ]
      }
     ],
     "prompt_number": 1
    }
   ],
   "metadata": {}
  }
 ]
}
